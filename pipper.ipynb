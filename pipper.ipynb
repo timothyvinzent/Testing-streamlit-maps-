{
 "cells": [
  {
   "cell_type": "code",
   "execution_count": 1,
   "metadata": {},
   "outputs": [
    {
     "name": "stdout",
     "output_type": "stream",
     "text": [
      "Collecting streamlit\n",
      "  Downloading streamlit-1.20.0-py2.py3-none-any.whl (9.6 MB)\n",
      "     ---------------------------------------- 9.6/9.6 MB 6.9 MB/s eta 0:00:00\n",
      "Collecting tzlocal>=1.1\n",
      "  Downloading tzlocal-4.3-py3-none-any.whl (20 kB)\n",
      "Requirement already satisfied: importlib-metadata>=1.4 in c:\\users\\timot\\anaconda3\\lib\\site-packages (from streamlit) (4.11.3)\n",
      "Collecting cachetools>=4.0\n",
      "  Downloading cachetools-5.3.0-py3-none-any.whl (9.3 kB)\n",
      "Requirement already satisfied: pandas<2,>=0.25 in c:\\users\\timot\\anaconda3\\lib\\site-packages (from streamlit) (1.4.4)\n",
      "Collecting pydeck>=0.1.dev5\n",
      "  Downloading pydeck-0.8.0-py2.py3-none-any.whl (4.7 MB)\n",
      "     ---------------------------------------- 4.7/4.7 MB 10.7 MB/s eta 0:00:00\n",
      "Requirement already satisfied: packaging>=14.1 in c:\\users\\timot\\anaconda3\\lib\\site-packages (from streamlit) (21.3)\n",
      "Requirement already satisfied: click>=7.0 in c:\\users\\timot\\anaconda3\\lib\\site-packages (from streamlit) (8.0.4)\n",
      "Requirement already satisfied: watchdog in c:\\users\\timot\\anaconda3\\lib\\site-packages (from streamlit) (2.1.6)\n",
      "Requirement already satisfied: numpy in c:\\users\\timot\\anaconda3\\lib\\site-packages (from streamlit) (1.21.5)\n",
      "Collecting validators>=0.2\n",
      "  Downloading validators-0.20.0.tar.gz (30 kB)\n",
      "  Preparing metadata (setup.py): started\n",
      "  Preparing metadata (setup.py): finished with status 'done'\n",
      "Requirement already satisfied: typing-extensions>=3.10.0.0 in c:\\users\\timot\\anaconda3\\lib\\site-packages (from streamlit) (4.3.0)\n",
      "Collecting gitpython!=3.1.19\n",
      "  Downloading GitPython-3.1.31-py3-none-any.whl (184 kB)\n",
      "     ------------------------------------- 184.3/184.3 kB 10.9 MB/s eta 0:00:00\n",
      "Collecting semver\n",
      "  Downloading semver-2.13.0-py2.py3-none-any.whl (12 kB)\n",
      "Collecting rich>=10.11.0\n",
      "  Downloading rich-13.3.2-py3-none-any.whl (238 kB)\n",
      "     ---------------------------------------- 238.7/238.7 kB ? eta 0:00:00\n",
      "Collecting pyarrow>=4.0\n",
      "  Downloading pyarrow-11.0.0-cp39-cp39-win_amd64.whl (20.6 MB)\n",
      "     --------------------------------------- 20.6/20.6 MB 12.1 MB/s eta 0:00:00\n",
      "Requirement already satisfied: requests>=2.4 in c:\\users\\timot\\anaconda3\\lib\\site-packages (from streamlit) (2.28.1)\n",
      "Requirement already satisfied: tornado>=6.0.3 in c:\\users\\timot\\anaconda3\\lib\\site-packages (from streamlit) (6.1)\n",
      "Collecting protobuf<4,>=3.12\n",
      "  Downloading protobuf-3.20.3-cp39-cp39-win_amd64.whl (904 kB)\n",
      "     ------------------------------------- 904.2/904.2 kB 14.2 MB/s eta 0:00:00\n",
      "Requirement already satisfied: toml in c:\\users\\timot\\anaconda3\\lib\\site-packages (from streamlit) (0.10.2)\n",
      "Requirement already satisfied: pillow>=6.2.0 in c:\\users\\timot\\anaconda3\\lib\\site-packages (from streamlit) (9.2.0)\n",
      "Collecting pympler>=0.9\n",
      "  Downloading Pympler-1.0.1-py3-none-any.whl (164 kB)\n",
      "     -------------------------------------- 164.8/164.8 kB 9.7 MB/s eta 0:00:00\n",
      "Collecting altair<5,>=3.2.0\n",
      "  Downloading altair-4.2.2-py3-none-any.whl (813 kB)\n",
      "     ------------------------------------- 813.6/813.6 kB 10.2 MB/s eta 0:00:00\n",
      "Requirement already satisfied: python-dateutil in c:\\users\\timot\\anaconda3\\lib\\site-packages (from streamlit) (2.8.2)\n",
      "Collecting blinker>=1.0.0\n",
      "  Downloading blinker-1.5-py2.py3-none-any.whl (12 kB)\n",
      "Requirement already satisfied: toolz in c:\\users\\timot\\anaconda3\\lib\\site-packages (from altair<5,>=3.2.0->streamlit) (0.11.2)\n",
      "Requirement already satisfied: entrypoints in c:\\users\\timot\\anaconda3\\lib\\site-packages (from altair<5,>=3.2.0->streamlit) (0.4)\n",
      "Requirement already satisfied: jinja2 in c:\\users\\timot\\anaconda3\\lib\\site-packages (from altair<5,>=3.2.0->streamlit) (2.11.3)\n",
      "Requirement already satisfied: jsonschema>=3.0 in c:\\users\\timot\\anaconda3\\lib\\site-packages (from altair<5,>=3.2.0->streamlit) (4.16.0)\n",
      "Requirement already satisfied: colorama in c:\\users\\timot\\anaconda3\\lib\\site-packages (from click>=7.0->streamlit) (0.4.5)\n",
      "Collecting gitdb<5,>=4.0.1\n",
      "  Downloading gitdb-4.0.10-py3-none-any.whl (62 kB)\n",
      "     ---------------------------------------- 62.7/62.7 kB 3.3 MB/s eta 0:00:00\n",
      "Requirement already satisfied: zipp>=0.5 in c:\\users\\timot\\anaconda3\\lib\\site-packages (from importlib-metadata>=1.4->streamlit) (3.8.0)\n",
      "Requirement already satisfied: pyparsing!=3.0.5,>=2.0.2 in c:\\users\\timot\\anaconda3\\lib\\site-packages (from packaging>=14.1->streamlit) (3.0.9)\n",
      "Requirement already satisfied: pytz>=2020.1 in c:\\users\\timot\\anaconda3\\lib\\site-packages (from pandas<2,>=0.25->streamlit) (2022.1)\n",
      "Requirement already satisfied: six>=1.5 in c:\\users\\timot\\anaconda3\\lib\\site-packages (from python-dateutil->streamlit) (1.16.0)\n",
      "Requirement already satisfied: charset-normalizer<3,>=2 in c:\\users\\timot\\anaconda3\\lib\\site-packages (from requests>=2.4->streamlit) (2.0.4)\n",
      "Requirement already satisfied: certifi>=2017.4.17 in c:\\users\\timot\\anaconda3\\lib\\site-packages (from requests>=2.4->streamlit) (2022.9.14)\n",
      "Requirement already satisfied: urllib3<1.27,>=1.21.1 in c:\\users\\timot\\anaconda3\\lib\\site-packages (from requests>=2.4->streamlit) (1.26.11)\n",
      "Requirement already satisfied: idna<4,>=2.5 in c:\\users\\timot\\anaconda3\\lib\\site-packages (from requests>=2.4->streamlit) (3.3)\n",
      "Collecting markdown-it-py<3.0.0,>=2.2.0\n",
      "  Downloading markdown_it_py-2.2.0-py3-none-any.whl (84 kB)\n",
      "     ---------------------------------------- 84.5/84.5 kB 4.6 MB/s eta 0:00:00\n",
      "Collecting pygments<3.0.0,>=2.13.0\n",
      "  Downloading Pygments-2.14.0-py3-none-any.whl (1.1 MB)\n",
      "     ---------------------------------------- 1.1/1.1 MB 8.9 MB/s eta 0:00:00\n",
      "Collecting pytz-deprecation-shim\n",
      "  Downloading pytz_deprecation_shim-0.1.0.post0-py2.py3-none-any.whl (15 kB)\n",
      "Collecting tzdata\n",
      "  Downloading tzdata-2022.7-py2.py3-none-any.whl (340 kB)\n",
      "     ------------------------------------- 340.1/340.1 kB 22.0 MB/s eta 0:00:00\n",
      "Requirement already satisfied: decorator>=3.4.0 in c:\\users\\timot\\anaconda3\\lib\\site-packages (from validators>=0.2->streamlit) (5.1.1)\n",
      "Collecting smmap<6,>=3.0.1\n",
      "  Downloading smmap-5.0.0-py3-none-any.whl (24 kB)\n",
      "Requirement already satisfied: MarkupSafe>=0.23 in c:\\users\\timot\\anaconda3\\lib\\site-packages (from jinja2->altair<5,>=3.2.0->streamlit) (2.0.1)\n",
      "Requirement already satisfied: pyrsistent!=0.17.0,!=0.17.1,!=0.17.2,>=0.14.0 in c:\\users\\timot\\anaconda3\\lib\\site-packages (from jsonschema>=3.0->altair<5,>=3.2.0->streamlit) (0.18.0)\n",
      "Requirement already satisfied: attrs>=17.4.0 in c:\\users\\timot\\anaconda3\\lib\\site-packages (from jsonschema>=3.0->altair<5,>=3.2.0->streamlit) (21.4.0)\n",
      "Collecting mdurl~=0.1\n",
      "  Downloading mdurl-0.1.2-py3-none-any.whl (10.0 kB)\n",
      "Building wheels for collected packages: validators\n",
      "  Building wheel for validators (setup.py): started\n",
      "  Building wheel for validators (setup.py): finished with status 'done'\n",
      "  Created wheel for validators: filename=validators-0.20.0-py3-none-any.whl size=19579 sha256=2eaad3d02013fcf1ae47eecacbc64785f1511ce180af37308161ff68f82a2989\n",
      "  Stored in directory: c:\\users\\timot\\appdata\\local\\pip\\cache\\wheels\\2d\\f0\\a8\\1094fca7a7e5d0d12ff56e0c64675d72aa5cc81a5fc200e849\n",
      "Successfully built validators\n",
      "Installing collected packages: validators, tzdata, smmap, semver, pympler, pygments, pyarrow, protobuf, mdurl, cachetools, blinker, pytz-deprecation-shim, pydeck, markdown-it-py, gitdb, tzlocal, rich, gitpython, altair, streamlit\n",
      "  Attempting uninstall: pygments\n",
      "    Found existing installation: Pygments 2.11.2\n",
      "    Uninstalling Pygments-2.11.2:\n",
      "      Successfully uninstalled Pygments-2.11.2\n",
      "Successfully installed altair-4.2.2 blinker-1.5 cachetools-5.3.0 gitdb-4.0.10 gitpython-3.1.31 markdown-it-py-2.2.0 mdurl-0.1.2 protobuf-3.20.3 pyarrow-11.0.0 pydeck-0.8.0 pygments-2.14.0 pympler-1.0.1 pytz-deprecation-shim-0.1.0.post0 rich-13.3.2 semver-2.13.0 smmap-5.0.0 streamlit-1.20.0 tzdata-2022.7 tzlocal-4.3 validators-0.20.0\n",
      "Note: you may need to restart the kernel to use updated packages.\n"
     ]
    },
    {
     "name": "stderr",
     "output_type": "stream",
     "text": [
      "ERROR: pip's dependency resolver does not currently take into account all the packages that are installed. This behaviour is the source of the following dependency conflicts.\n",
      "spyder 5.2.2 requires pyqt5<5.13, which is not installed.\n",
      "spyder 5.2.2 requires pyqtwebengine<5.13, which is not installed.\n"
     ]
    }
   ],
   "source": [
    "pip install streamlit"
   ]
  },
  {
   "cell_type": "code",
   "execution_count": 12,
   "metadata": {},
   "outputs": [],
   "source": [
    "import pandas as pd"
   ]
  },
  {
   "cell_type": "code",
   "execution_count": 3,
   "metadata": {},
   "outputs": [],
   "source": [
    "location = {'coords': {'accuracy': 25381, 'altitude': None, 'altitudeAccuracy': None, 'heading': None, 'latitude': 47.4352, 'longitude': 8.7168, 'speed': None}, 'timestamp': 1679580193429}"
   ]
  },
  {
   "cell_type": "code",
   "execution_count": 9,
   "metadata": {},
   "outputs": [
    {
     "name": "stdout",
     "output_type": "stream",
     "text": [
      "47.4352\n",
      "8.7168\n"
     ]
    }
   ],
   "source": [
    "print(location['coords']['latitude'])\n",
    "print(location['coords']['longitude'])"
   ]
  },
  {
   "cell_type": "code",
   "execution_count": 10,
   "metadata": {},
   "outputs": [],
   "source": [
    "def load_data():\n",
    "    data = pd.read_csv('sammelstellen.csv', sep= \";\")\n",
    "    return data"
   ]
  },
  {
   "cell_type": "code",
   "execution_count": 13,
   "metadata": {},
   "outputs": [],
   "source": [
    "samstelstellen = load_data()"
   ]
  },
  {
   "cell_type": "code",
   "execution_count": null,
   "metadata": {},
   "outputs": [],
   "source": [
    "latitudes = []\n",
    "longitudes = []\n",
    "names = []\n",
    "\n",
    "for i in range(0, len(samstelstellen)):\n",
    "    newStrings = samstelstellen[\"Geo Point\"][i].split(\",\")\n",
    "    \n",
    "    latitudes.append(newStrings[0])\n",
    "    longitudes.append(newStrings[1])\n",
    "    names.append(samstelstellen[\"Standort\"][i])"
   ]
  },
  {
   "cell_type": "code",
   "execution_count": 17,
   "metadata": {},
   "outputs": [
    {
     "name": "stderr",
     "output_type": "stream",
     "text": [
      "C:\\Users\\Timot\\AppData\\Local\\Temp\\ipykernel_13848\\845015359.py:5: SettingWithCopyWarning: \n",
      "A value is trying to be set on a copy of a slice from a DataFrame\n",
      "\n",
      "See the caveats in the documentation: https://pandas.pydata.org/pandas-docs/stable/user_guide/indexing.html#returning-a-view-versus-a-copy\n",
      "  samstelstellen[\"abfallarten\"][i] = newStrings\n"
     ]
    }
   ],
   "source": [
    "abfall = []\n",
    "\n",
    "for i in range(0, len(samstelstellen)):\n",
    "    newStrings = samstelstellen[\"abfallarten\"][i].split(\",\")\n",
    "    samstelstellen[\"abfallarten\"][i] = newStrings\n",
    "    \n",
    "    abfall.append(newStrings)\n",
    "\n"
   ]
  },
  {
   "cell_type": "code",
   "execution_count": 19,
   "metadata": {},
   "outputs": [
    {
     "name": "stdout",
     "output_type": "stream",
     "text": [
      "['Aluminium', 'Dosen', 'Glas']\n",
      "Aluminium\n",
      "Dosen\n",
      "Glas\n",
      "['Aluminium', 'Dosen', 'Glas', 'Alttextilien']\n",
      "Aluminium\n",
      "Dosen\n",
      "Glas\n",
      "Alttextilien\n",
      "['Aluminium', 'Dosen', 'Glas', 'Alttextilien']\n",
      "Aluminium\n",
      "Dosen\n",
      "Glas\n",
      "Alttextilien\n",
      "['Aluminium', 'Dosen', 'Glas']\n",
      "Aluminium\n",
      "Dosen\n",
      "Glas\n",
      "['Aluminium', 'Dosen', 'Glas']\n",
      "Aluminium\n",
      "Dosen\n",
      "Glas\n",
      "['Aluminium', 'Dosen', 'Glas']\n",
      "Aluminium\n",
      "Dosen\n",
      "Glas\n",
      "['Aluminium', 'Dosen', 'Glas']\n",
      "Aluminium\n",
      "Dosen\n",
      "Glas\n",
      "['Aluminium', 'Dosen', 'Glas', 'Alttextilien']\n",
      "Aluminium\n",
      "Dosen\n",
      "Glas\n",
      "Alttextilien\n",
      "['Aluminium', 'Dosen', 'Glas', 'Alttextilien']\n",
      "Aluminium\n",
      "Dosen\n",
      "Glas\n",
      "Alttextilien\n",
      "['Aluminium', 'Dosen', 'Glas']\n",
      "Aluminium\n",
      "Dosen\n",
      "Glas\n",
      "['Aluminium', 'Dosen', 'Glas']\n",
      "Aluminium\n",
      "Dosen\n",
      "Glas\n",
      "['Aluminium', 'Dosen', 'Glas', 'Alttextilien']\n",
      "Aluminium\n",
      "Dosen\n",
      "Glas\n",
      "Alttextilien\n",
      "['Altmetall', 'Altöl', 'Styropor']\n",
      "Altmetall\n",
      "Altöl\n",
      "Styropor\n",
      "['Altmetall', 'Altöl', 'Styropor']\n",
      "Altmetall\n",
      "Altöl\n",
      "Styropor\n",
      "['Aluminium', 'Dosen', 'Glas', 'Alttextilien']\n",
      "Aluminium\n",
      "Dosen\n",
      "Glas\n",
      "Alttextilien\n",
      "['Altöl', 'Aluminium', 'Dosen', 'Glas']\n",
      "Altöl\n",
      "Aluminium\n",
      "Dosen\n",
      "Glas\n",
      "['Aluminium', 'Dosen', 'Glas']\n",
      "Aluminium\n",
      "Dosen\n",
      "Glas\n",
      "['Altmetall', 'Altöl', 'Sonderabfall']\n",
      "Altmetall\n",
      "Altöl\n",
      "Sonderabfall\n",
      "['Altmetall', 'Altöl', 'Aluminium', 'Dosen', 'Glas', 'Sonderabfall', 'Alttextilien']\n",
      "Altmetall\n",
      "Altöl\n",
      "Aluminium\n",
      "Dosen\n",
      "Glas\n",
      "Sonderabfall\n",
      "Alttextilien\n",
      "['Aluminium', 'Dosen', 'Glas']\n",
      "Aluminium\n",
      "Dosen\n",
      "Glas\n",
      "['Aluminium', 'Dosen', 'Glas']\n",
      "Aluminium\n",
      "Dosen\n",
      "Glas\n",
      "['Aluminium', 'Dosen', 'Glas']\n",
      "Aluminium\n",
      "Dosen\n",
      "Glas\n",
      "['Aluminium', 'Dosen', 'Glas']\n",
      "Aluminium\n",
      "Dosen\n",
      "Glas\n",
      "['Aluminium', 'Dosen', 'Glas']\n",
      "Aluminium\n",
      "Dosen\n",
      "Glas\n",
      "['Aluminium', 'Dosen', 'Glas']\n",
      "Aluminium\n",
      "Dosen\n",
      "Glas\n",
      "['Aluminium', 'Dosen', 'Glas', 'Alttextilien']\n",
      "Aluminium\n",
      "Dosen\n",
      "Glas\n",
      "Alttextilien\n",
      "['Aluminium', 'Dosen', 'Glas']\n",
      "Aluminium\n",
      "Dosen\n",
      "Glas\n",
      "['Aluminium', 'Dosen', 'Glas']\n",
      "Aluminium\n",
      "Dosen\n",
      "Glas\n",
      "['Aluminium', 'Dosen', 'Glas', 'Alttextilien']\n",
      "Aluminium\n",
      "Dosen\n",
      "Glas\n",
      "Alttextilien\n",
      "['Altmetall', 'Altöl', 'Aluminium', 'Dosen', 'Glas', 'Styropor']\n",
      "Altmetall\n",
      "Altöl\n",
      "Aluminium\n",
      "Dosen\n",
      "Glas\n",
      "Styropor\n",
      "['Altmetall', 'Altöl', 'Aluminium', 'Dosen', 'Glas', 'Sonderabfall', 'Alttextilien']\n",
      "Altmetall\n",
      "Altöl\n",
      "Aluminium\n",
      "Dosen\n",
      "Glas\n",
      "Sonderabfall\n",
      "Alttextilien\n"
     ]
    }
   ],
   "source": [
    "for i in samstelstellen[\"abfallarten\"]:\n",
    "    print(i)\n",
    "    for t in i:\n",
    "        print(t)"
   ]
  },
  {
   "cell_type": "code",
   "execution_count": 20,
   "metadata": {},
   "outputs": [],
   "source": [
    "\n",
    "result = {x for l in abfall for x in l}"
   ]
  },
  {
   "cell_type": "code",
   "execution_count": 21,
   "metadata": {},
   "outputs": [
    {
     "data": {
      "text/plain": [
       "{'Altmetall',\n",
       " 'Alttextilien',\n",
       " 'Altöl',\n",
       " 'Aluminium',\n",
       " 'Dosen',\n",
       " 'Glas',\n",
       " 'Sonderabfall',\n",
       " 'Styropor'}"
      ]
     },
     "execution_count": 21,
     "metadata": {},
     "output_type": "execute_result"
    }
   ],
   "source": [
    "result"
   ]
  },
  {
   "cell_type": "code",
   "execution_count": null,
   "metadata": {},
   "outputs": [],
   "source": []
  }
 ],
 "metadata": {
  "kernelspec": {
   "display_name": "base",
   "language": "python",
   "name": "python3"
  },
  "language_info": {
   "codemirror_mode": {
    "name": "ipython",
    "version": 3
   },
   "file_extension": ".py",
   "mimetype": "text/x-python",
   "name": "python",
   "nbconvert_exporter": "python",
   "pygments_lexer": "ipython3",
   "version": "3.9.13"
  },
  "orig_nbformat": 4
 },
 "nbformat": 4,
 "nbformat_minor": 2
}
